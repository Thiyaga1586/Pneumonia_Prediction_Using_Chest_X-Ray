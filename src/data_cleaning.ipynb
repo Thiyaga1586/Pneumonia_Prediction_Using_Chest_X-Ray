{
 "cells": [
  {
   "cell_type": "code",
   "execution_count": null,
   "id": "131f0c7c",
   "metadata": {},
   "outputs": [],
   "source": [
    "from google.colab import drive\n",
    "drive.mount('/content/drive')"
   ]
  },
  {
   "cell_type": "code",
   "execution_count": null,
   "id": "0241bee7",
   "metadata": {},
   "outputs": [],
   "source": [
    "import zipfile\n",
    "import os\n",
    "\n",
    "zip_path = \"/content/drive/MyDrive/Final_dataset.zip\"\n",
    "extract_path = \"Final_dataset\"\n",
    "\n",
    "with zipfile.ZipFile(zip_path, 'r') as zip_ref:\n",
    "    zip_ref.extractall(extract_path)\n",
    "\n",
    "os.listdir(extract_path)"
   ]
  },
  {
   "cell_type": "code",
   "execution_count": null,
   "id": "f0dc1d07",
   "metadata": {},
   "outputs": [],
   "source": [
    "import os\n",
    "\n",
    "folder_path = \"/content/Final_dataset/train/NORMAL\"\n",
    "file_count = len([f for f in os.listdir(folder_path) if os.path.isfile(os.path.join(folder_path, f))])\n",
    "\n",
    "print(f\"Number of files in '{folder_path}': {file_count}\")"
   ]
  },
  {
   "cell_type": "code",
   "execution_count": null,
   "id": "7f084221",
   "metadata": {},
   "outputs": [],
   "source": [
    "import os\n",
    "\n",
    "folder_path = \"/content/Final_dataset/train/PNEUMONIA\"\n",
    "file_count = len([f for f in os.listdir(folder_path) if os.path.isfile(os.path.join(folder_path, f))])\n",
    "\n",
    "print(f\"Number of files in '{folder_path}': {file_count}\")"
   ]
  },
  {
   "cell_type": "code",
   "execution_count": null,
   "id": "992c8927",
   "metadata": {},
   "outputs": [],
   "source": [
    "import os\n",
    "from PIL import Image\n",
    "\n",
    "def resize_with_padding(img, target_size=224):\n",
    "    img = img.convert(\"RGB\")\n",
    "    width, height = img.size\n",
    "    scale = target_size / max(width, height)\n",
    "    new_width = int(width * scale)\n",
    "    new_height = int(height * scale)\n",
    "    img = img.resize((new_width, new_height), Image.BILINEAR)\n",
    "    new_img = Image.new(\"RGB\", (target_size, target_size), (0, 0, 0))\n",
    "    paste_x = (target_size - new_width) // 2\n",
    "    paste_y = (target_size - new_height) // 2\n",
    "    new_img.paste(img, (paste_x, paste_y))\n",
    "    new_img = new_img.convert(\"L\")  # L = grayscale\n",
    "    return new_img\n",
    "\n",
    "def process_dataset(root_dir, target_size=224):\n",
    "    valid_exts = ['.jpg', '.jpeg', '.png', '.bmp']\n",
    "    count = 0\n",
    "\n",
    "    for root, _, files in os.walk(root_dir):\n",
    "        for file in files:\n",
    "            ext = os.path.splitext(file)[1].lower()\n",
    "            if ext not in valid_exts:\n",
    "                continue\n",
    "\n",
    "            path = os.path.join(root, file)\n",
    "            try:\n",
    "                with Image.open(path) as img:\n",
    "                    processed = resize_with_padding(img, target_size)\n",
    "                    processed.save(path)\n",
    "                    count += 1\n",
    "                    if count % 500 == 0:\n",
    "                        print(f\"Processed {count} images...\")\n",
    "            except Exception as e:\n",
    "                print(f\"Failed to process {path}: {e}\")\n",
    "\n",
    "    print(f\"\\nFinished processing. Total images processed: {count}\")\n",
    "\n",
    "dataset_root = \"/content/Final_dataset\"\n",
    "process_dataset(dataset_root, target_size=224)"
   ]
  }
 ],
 "metadata": {
  "language_info": {
   "name": "python"
  }
 },
 "nbformat": 4,
 "nbformat_minor": 5
}
